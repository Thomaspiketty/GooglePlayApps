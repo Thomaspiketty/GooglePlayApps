{
 "cells": [
  {
   "cell_type": "markdown",
   "id": "d39d4db0-3059-41fd-ac9c-dea13301125d",
   "metadata": {},
   "source": [
    "## 1. Google Play Store apps and reviews\n",
    "<p>Mobile apps are everywhere. They are easy to create and can be lucrative. Because of these two factors, more and more apps are being developed. In this notebook, we will do a comprehensive analysis of the Android app market by comparing over ten thousand apps in Google Play across different categories. We'll look for insights in the data to devise strategies to drive growth and retention.</p>\n",
    "<p><img src=\"https://assets.datacamp.com/production/project_619/img/google_play_store.png\" alt=\"Google Play logo\"></p>\n",
    "<p>Let's take a look at the data, which consists of two files:</p>\n",
    "<ul>\n",
    "<li><code>apps.csv</code>: contains all the details of the applications on Google Play. There are 13 features that describe a given app.</li>\n",
    "<li><code>user_reviews.csv</code>: contains 100 reviews for each app, <a href=\"https://www.androidpolice.com/2019/01/21/google-play-stores-redesigned-ratings-and-reviews-section-lets-you-easily-filter-by-star-rating/\">most helpful first</a>. The text in each review has been pre-processed and attributed with three new features: Sentiment (Positive, Negative or Neutral), Sentiment Polarity and Sentiment Subjectivity.</li>\n",
    "</ul>"
   ]
  },
  {
   "cell_type": "code",
   "execution_count": 164,
   "id": "08ec8222-1eb8-45c3-ae8e-62da6dcdb173",
   "metadata": {},
   "outputs": [],
   "source": [
    "import pandas as pd\n",
    "import numpy as np"
   ]
  },
  {
   "cell_type": "code",
   "execution_count": 100,
   "id": "3c6301c6-aa24-45c3-831c-aab8bd75d856",
   "metadata": {},
   "outputs": [],
   "source": [
    "apps = pd.read_csv('datasets/apps.csv')"
   ]
  },
  {
   "cell_type": "code",
   "execution_count": 101,
   "id": "cafb4ff2-fc9b-4f91-9da8-01f193eb6b02",
   "metadata": {},
   "outputs": [],
   "source": [
    "reviews = pd.read_csv('datasets/user_reviews.csv')"
   ]
  },
  {
   "cell_type": "code",
   "execution_count": 80,
   "id": "64dd7b46-9c66-43ee-a81a-28fb42aff944",
   "metadata": {},
   "outputs": [
    {
     "data": {
      "text/html": [
       "<div>\n",
       "<style scoped>\n",
       "    .dataframe tbody tr th:only-of-type {\n",
       "        vertical-align: middle;\n",
       "    }\n",
       "\n",
       "    .dataframe tbody tr th {\n",
       "        vertical-align: top;\n",
       "    }\n",
       "\n",
       "    .dataframe thead th {\n",
       "        text-align: right;\n",
       "    }\n",
       "</style>\n",
       "<table border=\"1\" class=\"dataframe\">\n",
       "  <thead>\n",
       "    <tr style=\"text-align: right;\">\n",
       "      <th></th>\n",
       "      <th>Unnamed: 0</th>\n",
       "      <th>Rating</th>\n",
       "      <th>Reviews</th>\n",
       "      <th>Size</th>\n",
       "    </tr>\n",
       "  </thead>\n",
       "  <tbody>\n",
       "    <tr>\n",
       "      <th>count</th>\n",
       "      <td>9659.000000</td>\n",
       "      <td>8196.000000</td>\n",
       "      <td>9.659000e+03</td>\n",
       "      <td>8432.000000</td>\n",
       "    </tr>\n",
       "    <tr>\n",
       "      <th>mean</th>\n",
       "      <td>5666.172896</td>\n",
       "      <td>4.173243</td>\n",
       "      <td>2.165926e+05</td>\n",
       "      <td>20.395327</td>\n",
       "    </tr>\n",
       "    <tr>\n",
       "      <th>std</th>\n",
       "      <td>3102.362863</td>\n",
       "      <td>0.536625</td>\n",
       "      <td>1.831320e+06</td>\n",
       "      <td>21.827509</td>\n",
       "    </tr>\n",
       "    <tr>\n",
       "      <th>min</th>\n",
       "      <td>0.000000</td>\n",
       "      <td>1.000000</td>\n",
       "      <td>0.000000e+00</td>\n",
       "      <td>0.000000</td>\n",
       "    </tr>\n",
       "    <tr>\n",
       "      <th>25%</th>\n",
       "      <td>3111.500000</td>\n",
       "      <td>4.000000</td>\n",
       "      <td>2.500000e+01</td>\n",
       "      <td>4.600000</td>\n",
       "    </tr>\n",
       "    <tr>\n",
       "      <th>50%</th>\n",
       "      <td>5814.000000</td>\n",
       "      <td>4.300000</td>\n",
       "      <td>9.670000e+02</td>\n",
       "      <td>12.000000</td>\n",
       "    </tr>\n",
       "    <tr>\n",
       "      <th>75%</th>\n",
       "      <td>8327.500000</td>\n",
       "      <td>4.500000</td>\n",
       "      <td>2.940100e+04</td>\n",
       "      <td>28.000000</td>\n",
       "    </tr>\n",
       "    <tr>\n",
       "      <th>max</th>\n",
       "      <td>10840.000000</td>\n",
       "      <td>5.000000</td>\n",
       "      <td>7.815831e+07</td>\n",
       "      <td>100.000000</td>\n",
       "    </tr>\n",
       "  </tbody>\n",
       "</table>\n",
       "</div>"
      ],
      "text/plain": [
       "         Unnamed: 0       Rating       Reviews         Size\n",
       "count   9659.000000  8196.000000  9.659000e+03  8432.000000\n",
       "mean    5666.172896     4.173243  2.165926e+05    20.395327\n",
       "std     3102.362863     0.536625  1.831320e+06    21.827509\n",
       "min        0.000000     1.000000  0.000000e+00     0.000000\n",
       "25%     3111.500000     4.000000  2.500000e+01     4.600000\n",
       "50%     5814.000000     4.300000  9.670000e+02    12.000000\n",
       "75%     8327.500000     4.500000  2.940100e+04    28.000000\n",
       "max    10840.000000     5.000000  7.815831e+07   100.000000"
      ]
     },
     "execution_count": 80,
     "metadata": {},
     "output_type": "execute_result"
    }
   ],
   "source": [
    "apps.describe()"
   ]
  },
  {
   "cell_type": "code",
   "execution_count": 81,
   "id": "72b3abbf-1a29-4333-ab98-25e5bbcf748e",
   "metadata": {},
   "outputs": [
    {
     "data": {
      "text/plain": [
       "Index(['Unnamed: 0', 'App', 'Category', 'Rating', 'Reviews', 'Size',\n",
       "       'Installs', 'Type', 'Price', 'Content Rating', 'Genres', 'Last Updated',\n",
       "       'Current Ver', 'Android Ver'],\n",
       "      dtype='object')"
      ]
     },
     "execution_count": 81,
     "metadata": {},
     "output_type": "execute_result"
    }
   ],
   "source": [
    "apps.columns"
   ]
  },
  {
   "cell_type": "code",
   "execution_count": 82,
   "id": "5fc7ffa3-a77a-4ccd-bf33-6a4fd353f9bb",
   "metadata": {},
   "outputs": [
    {
     "name": "stdout",
     "output_type": "stream",
     "text": [
      "The number of rows in apps is 9659\n"
     ]
    }
   ],
   "source": [
    "print(f'The number of rows in apps is {len(apps)}')"
   ]
  },
  {
   "cell_type": "code",
   "execution_count": 83,
   "id": "d540acd6-530d-414a-8c8e-c51f96bf46ae",
   "metadata": {},
   "outputs": [
    {
     "data": {
      "text/html": [
       "<div>\n",
       "<style scoped>\n",
       "    .dataframe tbody tr th:only-of-type {\n",
       "        vertical-align: middle;\n",
       "    }\n",
       "\n",
       "    .dataframe tbody tr th {\n",
       "        vertical-align: top;\n",
       "    }\n",
       "\n",
       "    .dataframe thead th {\n",
       "        text-align: right;\n",
       "    }\n",
       "</style>\n",
       "<table border=\"1\" class=\"dataframe\">\n",
       "  <thead>\n",
       "    <tr style=\"text-align: right;\">\n",
       "      <th></th>\n",
       "      <th>Unnamed: 0</th>\n",
       "      <th>App</th>\n",
       "      <th>Category</th>\n",
       "      <th>Rating</th>\n",
       "      <th>Reviews</th>\n",
       "      <th>Size</th>\n",
       "      <th>Installs</th>\n",
       "      <th>Type</th>\n",
       "      <th>Price</th>\n",
       "      <th>Content Rating</th>\n",
       "      <th>Genres</th>\n",
       "      <th>Last Updated</th>\n",
       "      <th>Current Ver</th>\n",
       "      <th>Android Ver</th>\n",
       "    </tr>\n",
       "  </thead>\n",
       "  <tbody>\n",
       "    <tr>\n",
       "      <th>0</th>\n",
       "      <td>0</td>\n",
       "      <td>Photo Editor &amp; Candy Camera &amp; Grid &amp; ScrapBook</td>\n",
       "      <td>ART_AND_DESIGN</td>\n",
       "      <td>4.1</td>\n",
       "      <td>159</td>\n",
       "      <td>19.0</td>\n",
       "      <td>10,000+</td>\n",
       "      <td>Free</td>\n",
       "      <td>0</td>\n",
       "      <td>Everyone</td>\n",
       "      <td>Art &amp; Design</td>\n",
       "      <td>January 7, 2018</td>\n",
       "      <td>1.0.0</td>\n",
       "      <td>4.0.3 and up</td>\n",
       "    </tr>\n",
       "    <tr>\n",
       "      <th>1</th>\n",
       "      <td>1</td>\n",
       "      <td>Coloring book moana</td>\n",
       "      <td>ART_AND_DESIGN</td>\n",
       "      <td>3.9</td>\n",
       "      <td>967</td>\n",
       "      <td>14.0</td>\n",
       "      <td>500,000+</td>\n",
       "      <td>Free</td>\n",
       "      <td>0</td>\n",
       "      <td>Everyone</td>\n",
       "      <td>Art &amp; Design;Pretend Play</td>\n",
       "      <td>January 15, 2018</td>\n",
       "      <td>2.0.0</td>\n",
       "      <td>4.0.3 and up</td>\n",
       "    </tr>\n",
       "    <tr>\n",
       "      <th>2</th>\n",
       "      <td>2</td>\n",
       "      <td>U Launcher Lite – FREE Live Cool Themes, Hide ...</td>\n",
       "      <td>ART_AND_DESIGN</td>\n",
       "      <td>4.7</td>\n",
       "      <td>87510</td>\n",
       "      <td>8.7</td>\n",
       "      <td>5,000,000+</td>\n",
       "      <td>Free</td>\n",
       "      <td>0</td>\n",
       "      <td>Everyone</td>\n",
       "      <td>Art &amp; Design</td>\n",
       "      <td>August 1, 2018</td>\n",
       "      <td>1.2.4</td>\n",
       "      <td>4.0.3 and up</td>\n",
       "    </tr>\n",
       "    <tr>\n",
       "      <th>3</th>\n",
       "      <td>3</td>\n",
       "      <td>Sketch - Draw &amp; Paint</td>\n",
       "      <td>ART_AND_DESIGN</td>\n",
       "      <td>4.5</td>\n",
       "      <td>215644</td>\n",
       "      <td>25.0</td>\n",
       "      <td>50,000,000+</td>\n",
       "      <td>Free</td>\n",
       "      <td>0</td>\n",
       "      <td>Teen</td>\n",
       "      <td>Art &amp; Design</td>\n",
       "      <td>June 8, 2018</td>\n",
       "      <td>Varies with device</td>\n",
       "      <td>4.2 and up</td>\n",
       "    </tr>\n",
       "    <tr>\n",
       "      <th>4</th>\n",
       "      <td>4</td>\n",
       "      <td>Pixel Draw - Number Art Coloring Book</td>\n",
       "      <td>ART_AND_DESIGN</td>\n",
       "      <td>4.3</td>\n",
       "      <td>967</td>\n",
       "      <td>2.8</td>\n",
       "      <td>100,000+</td>\n",
       "      <td>Free</td>\n",
       "      <td>0</td>\n",
       "      <td>Everyone</td>\n",
       "      <td>Art &amp; Design;Creativity</td>\n",
       "      <td>June 20, 2018</td>\n",
       "      <td>1.1</td>\n",
       "      <td>4.4 and up</td>\n",
       "    </tr>\n",
       "  </tbody>\n",
       "</table>\n",
       "</div>"
      ],
      "text/plain": [
       "   Unnamed: 0                                                App  \\\n",
       "0           0     Photo Editor & Candy Camera & Grid & ScrapBook   \n",
       "1           1                                Coloring book moana   \n",
       "2           2  U Launcher Lite – FREE Live Cool Themes, Hide ...   \n",
       "3           3                              Sketch - Draw & Paint   \n",
       "4           4              Pixel Draw - Number Art Coloring Book   \n",
       "\n",
       "         Category  Rating  Reviews  Size     Installs  Type Price  \\\n",
       "0  ART_AND_DESIGN     4.1      159  19.0      10,000+  Free     0   \n",
       "1  ART_AND_DESIGN     3.9      967  14.0     500,000+  Free     0   \n",
       "2  ART_AND_DESIGN     4.7    87510   8.7   5,000,000+  Free     0   \n",
       "3  ART_AND_DESIGN     4.5   215644  25.0  50,000,000+  Free     0   \n",
       "4  ART_AND_DESIGN     4.3      967   2.8     100,000+  Free     0   \n",
       "\n",
       "  Content Rating                     Genres      Last Updated  \\\n",
       "0       Everyone               Art & Design   January 7, 2018   \n",
       "1       Everyone  Art & Design;Pretend Play  January 15, 2018   \n",
       "2       Everyone               Art & Design    August 1, 2018   \n",
       "3           Teen               Art & Design      June 8, 2018   \n",
       "4       Everyone    Art & Design;Creativity     June 20, 2018   \n",
       "\n",
       "          Current Ver   Android Ver  \n",
       "0               1.0.0  4.0.3 and up  \n",
       "1               2.0.0  4.0.3 and up  \n",
       "2               1.2.4  4.0.3 and up  \n",
       "3  Varies with device    4.2 and up  \n",
       "4                 1.1    4.4 and up  "
      ]
     },
     "execution_count": 83,
     "metadata": {},
     "output_type": "execute_result"
    }
   ],
   "source": [
    "apps.head()"
   ]
  },
  {
   "cell_type": "markdown",
   "id": "05b4addf-6ecb-40d9-a7ed-970f0c56aa59",
   "metadata": {},
   "source": [
    "#### Unnamed: 0 is an index but I do not need"
   ]
  },
  {
   "cell_type": "code",
   "execution_count": 117,
   "id": "62fb939f-1810-4de8-8e44-3c0c62d0831c",
   "metadata": {},
   "outputs": [
    {
     "data": {
      "text/plain": [
       "Index(['Unnamed: 0', 'App', 'Category', 'Rating', 'Reviews', 'Size',\n",
       "       'Installs', 'Type', 'Price', 'Content Rating', 'Genres', 'Last Updated',\n",
       "       'Current Ver', 'Android Ver'],\n",
       "      dtype='object')"
      ]
     },
     "execution_count": 117,
     "metadata": {},
     "output_type": "execute_result"
    }
   ],
   "source": [
    "apps.columns"
   ]
  },
  {
   "cell_type": "code",
   "execution_count": 118,
   "id": "2048716f-68e0-4ec5-ae34-2f4d35b5f112",
   "metadata": {},
   "outputs": [],
   "source": [
    "apps.drop(columns='Unnamed: 0', inplace= True)"
   ]
  },
  {
   "cell_type": "markdown",
   "id": "5f2df36f-56cc-4aa1-a3c4-8ad1d6c44e96",
   "metadata": {},
   "source": [
    "## Data Cleaning"
   ]
  },
  {
   "cell_type": "markdown",
   "id": "8ec23448-c24a-4748-b4e6-4b77bbba68d9",
   "metadata": {},
   "source": [
    "#### Checking if there is duplication"
   ]
  },
  {
   "cell_type": "code",
   "execution_count": 84,
   "id": "6089c5b8-2447-4e41-9bf7-1110b03b93f1",
   "metadata": {},
   "outputs": [
    {
     "data": {
      "text/plain": [
       "False    9659\n",
       "dtype: int64"
      ]
     },
     "execution_count": 84,
     "metadata": {},
     "output_type": "execute_result"
    }
   ],
   "source": [
    "apps.duplicated().value_counts()"
   ]
  },
  {
   "cell_type": "markdown",
   "id": "2c7dce87-3f22-494b-9f82-f8e63e0a402b",
   "metadata": {},
   "source": [
    "#### Checking missing values and how to do"
   ]
  },
  {
   "cell_type": "code",
   "execution_count": 85,
   "id": "d268b8e3-8096-4d3d-8c72-87f1aa389b76",
   "metadata": {},
   "outputs": [
    {
     "data": {
      "text/plain": [
       "Unnamed: 0        False\n",
       "App               False\n",
       "Category          False\n",
       "Rating             True\n",
       "Reviews           False\n",
       "Size               True\n",
       "Installs          False\n",
       "Type              False\n",
       "Price             False\n",
       "Content Rating    False\n",
       "Genres            False\n",
       "Last Updated      False\n",
       "Current Ver        True\n",
       "Android Ver        True\n",
       "dtype: bool"
      ]
     },
     "execution_count": 85,
     "metadata": {},
     "output_type": "execute_result"
    }
   ],
   "source": [
    "apps.isna().any()"
   ]
  },
  {
   "cell_type": "code",
   "execution_count": 86,
   "id": "c0bd1ad3-c2b6-4d07-adfe-477814cbbc94",
   "metadata": {},
   "outputs": [],
   "source": [
    "apps_drop = apps.dropna()"
   ]
  },
  {
   "cell_type": "code",
   "execution_count": 87,
   "id": "afcc4f7e-9720-43d9-af74-c06f9dfa59cf",
   "metadata": {},
   "outputs": [
    {
     "data": {
      "text/plain": [
       "7021"
      ]
     },
     "execution_count": 87,
     "metadata": {},
     "output_type": "execute_result"
    }
   ],
   "source": [
    "len(apps_drop)"
   ]
  },
  {
   "cell_type": "code",
   "execution_count": 90,
   "id": "80a52e68-eb0f-41dd-8191-97a81f32f763",
   "metadata": {
    "jp-MarkdownHeadingCollapsed": true,
    "tags": []
   },
   "outputs": [
    {
     "name": "stdout",
     "output_type": "stream",
     "text": [
      "original Data rows 9659, If all none values are droped 7021, we loose the data 2638\n"
     ]
    }
   ],
   "source": [
    "print(f'original Data rows {len(apps)}, If all none values are droped {len(apps_drop)}, we loose the data {len(apps)-len(apps_drop)}')"
   ]
  },
  {
   "cell_type": "markdown",
   "id": "efec9121-0363-4306-b8f1-4152d31aa48f",
   "metadata": {},
   "source": [
    "#### we will loose too much data, if we drop all the none values. So Let us do something other things first"
   ]
  },
  {
   "cell_type": "markdown",
   "id": "14043f40-0c61-46ab-af2f-3624e7f895ed",
   "metadata": {},
   "source": [
    "---"
   ]
  },
  {
   "cell_type": "markdown",
   "id": "c6e06c04-0783-40f1-952c-e7da92f9c775",
   "metadata": {
    "tags": []
   },
   "source": [
    "#### First of all, the column 'Installs' can be numeric"
   ]
  },
  {
   "cell_type": "code",
   "execution_count": 102,
   "id": "27cb99ca-cadf-4106-8ff1-917850318462",
   "metadata": {},
   "outputs": [
    {
     "data": {
      "text/plain": [
       "False    9659\n",
       "Name: Installs, dtype: int64"
      ]
     },
     "execution_count": 102,
     "metadata": {},
     "output_type": "execute_result"
    }
   ],
   "source": [
    "apps.Installs.isna().value_counts()"
   ]
  },
  {
   "cell_type": "markdown",
   "id": "7c786be5-595b-4cf9-b343-7194ad351e62",
   "metadata": {},
   "source": [
    "#### Removing '+' ','"
   ]
  },
  {
   "cell_type": "code",
   "execution_count": 106,
   "id": "fbfcf0d0-f6b9-48d1-b463-ebf59bb3338b",
   "metadata": {},
   "outputs": [
    {
     "data": {
      "text/plain": [
       "0          10000\n",
       "1         500000\n",
       "2        5000000\n",
       "3       50000000\n",
       "4         100000\n",
       "          ...   \n",
       "9654        5000\n",
       "9655         100\n",
       "9656        1000\n",
       "9657        1000\n",
       "9658    10000000\n",
       "Name: Installs, Length: 9659, dtype: object"
      ]
     },
     "execution_count": 106,
     "metadata": {},
     "output_type": "execute_result"
    }
   ],
   "source": [
    "chars_to_remove = ['+',',']\n",
    "for char in chars_to_remove:\n",
    "    apps['Installs'] = apps['Installs'].apply(lambda x: x.replace(char, ''))\n",
    "\n",
    "apps.Installs"
   ]
  },
  {
   "cell_type": "markdown",
   "id": "a09e5668-be5c-4a43-b8e4-0c7a2691d9ac",
   "metadata": {},
   "source": [
    "#### change the data type as float"
   ]
  },
  {
   "cell_type": "code",
   "execution_count": 109,
   "id": "dc3fb3ea-2397-41bd-929a-807a73baf422",
   "metadata": {},
   "outputs": [],
   "source": [
    "apps.Installs = apps.Installs.astype('float64')"
   ]
  },
  {
   "cell_type": "code",
   "execution_count": 111,
   "id": "c32911d0-ed8f-407a-9b69-8be19a346567",
   "metadata": {},
   "outputs": [
    {
     "data": {
      "text/plain": [
       "Unnamed: 0          int64\n",
       "App                object\n",
       "Category           object\n",
       "Rating            float64\n",
       "Reviews             int64\n",
       "Size              float64\n",
       "Installs          float64\n",
       "Type               object\n",
       "Price              object\n",
       "Content Rating     object\n",
       "Genres             object\n",
       "Last Updated       object\n",
       "Current Ver        object\n",
       "Android Ver        object\n",
       "dtype: object"
      ]
     },
     "execution_count": 111,
     "metadata": {},
     "output_type": "execute_result"
    }
   ],
   "source": [
    "apps.dtypes"
   ]
  },
  {
   "cell_type": "code",
   "execution_count": 113,
   "id": "3ccebd7f-8ab0-4f78-b80a-7fb9520d9dcb",
   "metadata": {},
   "outputs": [
    {
     "data": {
      "text/plain": [
       "0          8903\n",
       "$0.99       145\n",
       "$2.99       124\n",
       "$1.99        73\n",
       "$4.99        70\n",
       "           ... \n",
       "$18.99        1\n",
       "$389.99       1\n",
       "$19.90        1\n",
       "$1.75         1\n",
       "$1.04         1\n",
       "Name: Price, Length: 92, dtype: int64"
      ]
     },
     "execution_count": 113,
     "metadata": {},
     "output_type": "execute_result"
    }
   ],
   "source": [
    "apps.Price.value_counts()"
   ]
  },
  {
   "cell_type": "markdown",
   "id": "75cdcfa3-cf3a-4620-9218-754a4cf5babb",
   "metadata": {},
   "source": [
    "#### Price can be also a numeric. "
   ]
  },
  {
   "cell_type": "code",
   "execution_count": 114,
   "id": "c83e420c-6beb-4711-b527-29f05638596f",
   "metadata": {},
   "outputs": [],
   "source": [
    "apps.Price = apps.Price.apply(lambda x : x.replace('$',''))"
   ]
  },
  {
   "cell_type": "code",
   "execution_count": 115,
   "id": "cb3e6895-4d43-402e-8b15-73128536ea02",
   "metadata": {},
   "outputs": [],
   "source": [
    "apps.Price = apps.Price.astype('float64')"
   ]
  },
  {
   "cell_type": "code",
   "execution_count": 137,
   "id": "6995dd19-8f66-409a-843d-56be4b199726",
   "metadata": {},
   "outputs": [
    {
     "data": {
      "text/plain": [
       "mean        1.099299\n",
       "median      0.000000\n",
       "max       400.000000\n",
       "min         0.000000\n",
       "Name: Price, dtype: float64"
      ]
     },
     "execution_count": 137,
     "metadata": {},
     "output_type": "execute_result"
    }
   ],
   "source": [
    "apps.Price.agg(['mean','median','max','min'])"
   ]
  },
  {
   "cell_type": "code",
   "execution_count": 138,
   "id": "4022ff3e-0172-49db-a2c7-0436b68016ef",
   "metadata": {},
   "outputs": [
    {
     "data": {
      "text/plain": [
       "0.9217310280567347"
      ]
     },
     "execution_count": 138,
     "metadata": {},
     "output_type": "execute_result"
    }
   ],
   "source": [
    "len(apps[apps.Price == 0])/len(apps)"
   ]
  },
  {
   "cell_type": "markdown",
   "id": "7c5d770f-e530-4836-9155-b6ee0cba314b",
   "metadata": {},
   "source": [
    "### most of Apps which people download are free(about 92.17%)"
   ]
  },
  {
   "cell_type": "markdown",
   "id": "19efde75-70f9-44df-a88c-47db9dcf669d",
   "metadata": {},
   "source": [
    "---"
   ]
  },
  {
   "cell_type": "markdown",
   "id": "eedc7352-b7ad-4b08-88bd-27bd7b479ef6",
   "metadata": {},
   "source": [
    "### Let us see more about paid App"
   ]
  },
  {
   "cell_type": "code",
   "execution_count": 148,
   "id": "87b00c3d-9e8f-46e5-b382-2c749ed2a93d",
   "metadata": {},
   "outputs": [
    {
     "data": {
      "text/plain": [
       "<AxesSubplot:xlabel='Price'>"
      ]
     },
     "execution_count": 148,
     "metadata": {},
     "output_type": "execute_result"
    },
    {
     "data": {
      "image/png": "[encoded data removed]",
      "text/plain": [
       "<Figure size 432x288 with 1 Axes>"
      ]
     },
     "metadata": {
      "needs_background": "light"
     },
     "output_type": "display_data"
    }
   ],
   "source": [
    "apps[apps.Price !=0].groupby('Price').App.count().plot()"
   ]
  },
  {
   "cell_type": "code",
   "execution_count": 152,
   "id": "a35e2861-f441-4a74-9e6b-ae43e3ff1741",
   "metadata": {},
   "outputs": [],
   "source": [
    "paid = apps[apps.Price !=0]"
   ]
  },
  {
   "cell_type": "code",
   "execution_count": 156,
   "id": "ea263c2e-253e-4a03-890f-623dc198808d",
   "metadata": {},
   "outputs": [
    {
     "data": {
      "text/plain": [
       "count    756.000000\n",
       "mean      14.045146\n",
       "std       58.743615\n",
       "min        0.990000\n",
       "25%        1.490000\n",
       "50%        2.990000\n",
       "75%        4.990000\n",
       "max      400.000000\n",
       "Name: Price, dtype: float64"
      ]
     },
     "execution_count": 156,
     "metadata": {},
     "output_type": "execute_result"
    }
   ],
   "source": [
    "paid.Price.describe()"
   ]
  },
  {
   "cell_type": "markdown",
   "id": "b7237245-db96-421b-80ea-ffdecf62abe5",
   "metadata": {},
   "source": [
    "#### average of paid App is 14 dollars but the standard deviation is too high, and median is 2.99 dollars."
   ]
  },
  {
   "cell_type": "markdown",
   "id": "d2c35fd6-3df7-4a9d-9eb8-3fe015f4ec1a",
   "metadata": {},
   "source": [
    "#### If someone make a paid App, It would be nice to set the price below 1.5 dollars so that the Targeting of market for paid app can me more than 75% volume"
   ]
  },
  {
   "cell_type": "markdown",
   "id": "405f564f-e024-437a-91c0-2c3542e5800d",
   "metadata": {},
   "source": [
    "###  Categories"
   ]
  },
  {
   "cell_type": "code",
   "execution_count": 159,
   "id": "d15c1abf-4610-4260-b843-f6cc74a9a203",
   "metadata": {},
   "outputs": [
    {
     "data": {
      "text/plain": [
       "FAMILY                 1832\n",
       "GAME                    959\n",
       "TOOLS                   827\n",
       "BUSINESS                420\n",
       "MEDICAL                 395\n",
       "PERSONALIZATION         376\n",
       "PRODUCTIVITY            374\n",
       "LIFESTYLE               369\n",
       "FINANCE                 345\n",
       "SPORTS                  325\n",
       "COMMUNICATION           315\n",
       "HEALTH_AND_FITNESS      288\n",
       "PHOTOGRAPHY             281\n",
       "NEWS_AND_MAGAZINES      254\n",
       "SOCIAL                  239\n",
       "BOOKS_AND_REFERENCE     222\n",
       "TRAVEL_AND_LOCAL        219\n",
       "SHOPPING                202\n",
       "DATING                  171\n",
       "VIDEO_PLAYERS           163\n",
       "MAPS_AND_NAVIGATION     131\n",
       "EDUCATION               119\n",
       "FOOD_AND_DRINK          112\n",
       "ENTERTAINMENT           102\n",
       "AUTO_AND_VEHICLES        85\n",
       "LIBRARIES_AND_DEMO       84\n",
       "WEATHER                  79\n",
       "HOUSE_AND_HOME           74\n",
       "EVENTS                   64\n",
       "ART_AND_DESIGN           64\n",
       "PARENTING                60\n",
       "COMICS                   56\n",
       "BEAUTY                   53\n",
       "Name: Category, dtype: int64"
      ]
     },
     "execution_count": 159,
     "metadata": {},
     "output_type": "execute_result"
    }
   ],
   "source": [
    "apps.Category.value_counts()"
   ]
  },
  {
   "cell_type": "code",
   "execution_count": 167,
   "id": "f0b3e674-6a66-4d19-b40e-183ba8253050",
   "metadata": {},
   "outputs": [],
   "source": [
    "cat = apps.groupby('Category').App.count().sort_values( ascending = False)"
   ]
  },
  {
   "cell_type": "code",
   "execution_count": 169,
   "id": "e0078f2e-bc62-447b-99f5-a97679e6e83d",
   "metadata": {},
   "outputs": [],
   "source": [
    "cat= pd.DataFrame(cat)"
   ]
  },
  {
   "cell_type": "code",
   "execution_count": 178,
   "id": "770f2d00-e756-4f59-a073-0c56bfc2514a",
   "metadata": {},
   "outputs": [],
   "source": [
    "cat['Percent'] = round(cat.App/cat.App.sum()*100,2)"
   ]
  },
  {
   "cell_type": "code",
   "execution_count": 179,
   "id": "2080f839-b8e3-46a6-9bb3-9c8d75dc2453",
   "metadata": {},
   "outputs": [
    {
     "data": {
      "text/html": [
       "<div>\n",
       "<style scoped>\n",
       "    .dataframe tbody tr th:only-of-type {\n",
       "        vertical-align: middle;\n",
       "    }\n",
       "\n",
       "    .dataframe tbody tr th {\n",
       "        vertical-align: top;\n",
       "    }\n",
       "\n",
       "    .dataframe thead th {\n",
       "        text-align: right;\n",
       "    }\n",
       "</style>\n",
       "<table border=\"1\" class=\"dataframe\">\n",
       "  <thead>\n",
       "    <tr style=\"text-align: right;\">\n",
       "      <th></th>\n",
       "      <th>App</th>\n",
       "      <th>Percent</th>\n",
       "    </tr>\n",
       "    <tr>\n",
       "      <th>Category</th>\n",
       "      <th></th>\n",
       "      <th></th>\n",
       "    </tr>\n",
       "  </thead>\n",
       "  <tbody>\n",
       "    <tr>\n",
       "      <th>FAMILY</th>\n",
       "      <td>1832</td>\n",
       "      <td>18.97</td>\n",
       "    </tr>\n",
       "    <tr>\n",
       "      <th>GAME</th>\n",
       "      <td>959</td>\n",
       "      <td>9.93</td>\n",
       "    </tr>\n",
       "    <tr>\n",
       "      <th>TOOLS</th>\n",
       "      <td>827</td>\n",
       "      <td>8.56</td>\n",
       "    </tr>\n",
       "    <tr>\n",
       "      <th>BUSINESS</th>\n",
       "      <td>420</td>\n",
       "      <td>4.35</td>\n",
       "    </tr>\n",
       "    <tr>\n",
       "      <th>MEDICAL</th>\n",
       "      <td>395</td>\n",
       "      <td>4.09</td>\n",
       "    </tr>\n",
       "    <tr>\n",
       "      <th>PERSONALIZATION</th>\n",
       "      <td>376</td>\n",
       "      <td>3.89</td>\n",
       "    </tr>\n",
       "    <tr>\n",
       "      <th>PRODUCTIVITY</th>\n",
       "      <td>374</td>\n",
       "      <td>3.87</td>\n",
       "    </tr>\n",
       "    <tr>\n",
       "      <th>LIFESTYLE</th>\n",
       "      <td>369</td>\n",
       "      <td>3.82</td>\n",
       "    </tr>\n",
       "    <tr>\n",
       "      <th>FINANCE</th>\n",
       "      <td>345</td>\n",
       "      <td>3.57</td>\n",
       "    </tr>\n",
       "    <tr>\n",
       "      <th>SPORTS</th>\n",
       "      <td>325</td>\n",
       "      <td>3.36</td>\n",
       "    </tr>\n",
       "    <tr>\n",
       "      <th>COMMUNICATION</th>\n",
       "      <td>315</td>\n",
       "      <td>3.26</td>\n",
       "    </tr>\n",
       "    <tr>\n",
       "      <th>HEALTH_AND_FITNESS</th>\n",
       "      <td>288</td>\n",
       "      <td>2.98</td>\n",
       "    </tr>\n",
       "    <tr>\n",
       "      <th>PHOTOGRAPHY</th>\n",
       "      <td>281</td>\n",
       "      <td>2.91</td>\n",
       "    </tr>\n",
       "    <tr>\n",
       "      <th>NEWS_AND_MAGAZINES</th>\n",
       "      <td>254</td>\n",
       "      <td>2.63</td>\n",
       "    </tr>\n",
       "    <tr>\n",
       "      <th>SOCIAL</th>\n",
       "      <td>239</td>\n",
       "      <td>2.47</td>\n",
       "    </tr>\n",
       "    <tr>\n",
       "      <th>BOOKS_AND_REFERENCE</th>\n",
       "      <td>222</td>\n",
       "      <td>2.30</td>\n",
       "    </tr>\n",
       "    <tr>\n",
       "      <th>TRAVEL_AND_LOCAL</th>\n",
       "      <td>219</td>\n",
       "      <td>2.27</td>\n",
       "    </tr>\n",
       "    <tr>\n",
       "      <th>SHOPPING</th>\n",
       "      <td>202</td>\n",
       "      <td>2.09</td>\n",
       "    </tr>\n",
       "    <tr>\n",
       "      <th>DATING</th>\n",
       "      <td>171</td>\n",
       "      <td>1.77</td>\n",
       "    </tr>\n",
       "    <tr>\n",
       "      <th>VIDEO_PLAYERS</th>\n",
       "      <td>163</td>\n",
       "      <td>1.69</td>\n",
       "    </tr>\n",
       "    <tr>\n",
       "      <th>MAPS_AND_NAVIGATION</th>\n",
       "      <td>131</td>\n",
       "      <td>1.36</td>\n",
       "    </tr>\n",
       "    <tr>\n",
       "      <th>EDUCATION</th>\n",
       "      <td>119</td>\n",
       "      <td>1.23</td>\n",
       "    </tr>\n",
       "    <tr>\n",
       "      <th>FOOD_AND_DRINK</th>\n",
       "      <td>112</td>\n",
       "      <td>1.16</td>\n",
       "    </tr>\n",
       "    <tr>\n",
       "      <th>ENTERTAINMENT</th>\n",
       "      <td>102</td>\n",
       "      <td>1.06</td>\n",
       "    </tr>\n",
       "    <tr>\n",
       "      <th>AUTO_AND_VEHICLES</th>\n",
       "      <td>85</td>\n",
       "      <td>0.88</td>\n",
       "    </tr>\n",
       "    <tr>\n",
       "      <th>LIBRARIES_AND_DEMO</th>\n",
       "      <td>84</td>\n",
       "      <td>0.87</td>\n",
       "    </tr>\n",
       "    <tr>\n",
       "      <th>WEATHER</th>\n",
       "      <td>79</td>\n",
       "      <td>0.82</td>\n",
       "    </tr>\n",
       "    <tr>\n",
       "      <th>HOUSE_AND_HOME</th>\n",
       "      <td>74</td>\n",
       "      <td>0.77</td>\n",
       "    </tr>\n",
       "    <tr>\n",
       "      <th>EVENTS</th>\n",
       "      <td>64</td>\n",
       "      <td>0.66</td>\n",
       "    </tr>\n",
       "    <tr>\n",
       "      <th>ART_AND_DESIGN</th>\n",
       "      <td>64</td>\n",
       "      <td>0.66</td>\n",
       "    </tr>\n",
       "    <tr>\n",
       "      <th>PARENTING</th>\n",
       "      <td>60</td>\n",
       "      <td>0.62</td>\n",
       "    </tr>\n",
       "    <tr>\n",
       "      <th>COMICS</th>\n",
       "      <td>56</td>\n",
       "      <td>0.58</td>\n",
       "    </tr>\n",
       "    <tr>\n",
       "      <th>BEAUTY</th>\n",
       "      <td>53</td>\n",
       "      <td>0.55</td>\n",
       "    </tr>\n",
       "  </tbody>\n",
       "</table>\n",
       "</div>"
      ],
      "text/plain": [
       "                      App  Percent\n",
       "Category                          \n",
       "FAMILY               1832    18.97\n",
       "GAME                  959     9.93\n",
       "TOOLS                 827     8.56\n",
       "BUSINESS              420     4.35\n",
       "MEDICAL               395     4.09\n",
       "PERSONALIZATION       376     3.89\n",
       "PRODUCTIVITY          374     3.87\n",
       "LIFESTYLE             369     3.82\n",
       "FINANCE               345     3.57\n",
       "SPORTS                325     3.36\n",
       "COMMUNICATION         315     3.26\n",
       "HEALTH_AND_FITNESS    288     2.98\n",
       "PHOTOGRAPHY           281     2.91\n",
       "NEWS_AND_MAGAZINES    254     2.63\n",
       "SOCIAL                239     2.47\n",
       "BOOKS_AND_REFERENCE   222     2.30\n",
       "TRAVEL_AND_LOCAL      219     2.27\n",
       "SHOPPING              202     2.09\n",
       "DATING                171     1.77\n",
       "VIDEO_PLAYERS         163     1.69\n",
       "MAPS_AND_NAVIGATION   131     1.36\n",
       "EDUCATION             119     1.23\n",
       "FOOD_AND_DRINK        112     1.16\n",
       "ENTERTAINMENT         102     1.06\n",
       "AUTO_AND_VEHICLES      85     0.88\n",
       "LIBRARIES_AND_DEMO     84     0.87\n",
       "WEATHER                79     0.82\n",
       "HOUSE_AND_HOME         74     0.77\n",
       "EVENTS                 64     0.66\n",
       "ART_AND_DESIGN         64     0.66\n",
       "PARENTING              60     0.62\n",
       "COMICS                 56     0.58\n",
       "BEAUTY                 53     0.55"
      ]
     },
     "execution_count": 179,
     "metadata": {},
     "output_type": "execute_result"
    }
   ],
   "source": [
    "cat"
   ]
  },
  {
   "cell_type": "markdown",
   "id": "be993985-4751-4ae2-b5df-d7b4a8c8b398",
   "metadata": {},
   "source": [
    "#### nearly 20% of the Category is 'Family'"
   ]
  },
  {
   "cell_type": "code",
   "execution_count": 202,
   "id": "9923407f-21b4-451a-9d83-6598699e3d54",
   "metadata": {},
   "outputs": [],
   "source": [
    "fam = apps[(apps.Category == 'FAMILY')]"
   ]
  },
  {
   "cell_type": "code",
   "execution_count": 203,
   "id": "13b417e9-447f-48fd-92f5-0a3423ea427b",
   "metadata": {},
   "outputs": [],
   "source": [
    "fam_paid = apps[(apps.Category == 'FAMILY')&(apps.Type == 'Paid')]"
   ]
  },
  {
   "cell_type": "code",
   "execution_count": 204,
   "id": "4283682e-6f1f-475f-9e62-f04854b1a6ff",
   "metadata": {
    "tags": []
   },
   "outputs": [
    {
     "name": "stdout",
     "output_type": "stream",
     "text": [
      "about 9.99% of Family apps are paid app\n"
     ]
    }
   ],
   "source": [
    "print(f'about {round(len(fam_paid)/len(fam)*100,2)}% of Family apps are paid app')"
   ]
  },
  {
   "cell_type": "code",
   "execution_count": 205,
   "id": "bc868be9-6b7c-40c4-b48b-888343948ce1",
   "metadata": {},
   "outputs": [],
   "source": [
    "game = apps[(apps.Category == 'GAME')]"
   ]
  },
  {
   "cell_type": "code",
   "execution_count": 206,
   "id": "d81f4cf7-3415-46d6-be4c-68c2d7328b79",
   "metadata": {},
   "outputs": [],
   "source": [
    "game_paid = apps[(apps.Category == 'GAME')&(apps.Type == 'Paid')]"
   ]
  },
  {
   "cell_type": "code",
   "execution_count": 207,
   "id": "270a6ebd-1b6e-475f-87d8-2455b27ddc14",
   "metadata": {},
   "outputs": [
    {
     "name": "stdout",
     "output_type": "stream",
     "text": [
      "about 8.55% of Family apps are paid app\n"
     ]
    }
   ],
   "source": [
    "print(f'about {round(len(game_paid)/len(game)*100,2)}% of Family apps are paid app')"
   ]
  },
  {
   "cell_type": "code",
   "execution_count": 208,
   "id": "aca7c6a4-4bd3-4aac-994c-3c7664f58e84",
   "metadata": {},
   "outputs": [
    {
     "data": {
      "text/plain": [
       "13.113989071038167"
      ]
     },
     "execution_count": 208,
     "metadata": {},
     "output_type": "execute_result"
    }
   ],
   "source": [
    "fam_paid.Price.mean()"
   ]
  },
  {
   "cell_type": "code",
   "execution_count": 209,
   "id": "f1cf6208-a8f9-4224-a6b8-3d94029efc38",
   "metadata": {},
   "outputs": [
    {
     "data": {
      "text/plain": [
       "3.467195121951223"
      ]
     },
     "execution_count": 209,
     "metadata": {},
     "output_type": "execute_result"
    }
   ],
   "source": [
    "game_paid.Price.mean()"
   ]
  },
  {
   "cell_type": "code",
   "execution_count": 210,
   "id": "2d40f612-3a79-4fb3-8df7-cf71172e0ec0",
   "metadata": {},
   "outputs": [
    {
     "data": {
      "text/plain": [
       "2399.86"
      ]
     },
     "execution_count": 210,
     "metadata": {},
     "output_type": "execute_result"
    }
   ],
   "source": [
    "fam_paid.Price.sum()"
   ]
  },
  {
   "cell_type": "code",
   "execution_count": 211,
   "id": "1d0e80ce-2164-4ec4-9623-d9ffb591c8b2",
   "metadata": {},
   "outputs": [
    {
     "data": {
      "text/plain": [
       "284.31000000000006"
      ]
     },
     "execution_count": 211,
     "metadata": {},
     "output_type": "execute_result"
    }
   ],
   "source": [
    "game_paid.Price.sum()"
   ]
  },
  {
   "cell_type": "markdown",
   "id": "49f109c3-f457-478b-945e-b883ada0c704",
   "metadata": {},
   "source": [
    "#### I thought People would spend more money for the Game but people pay more for the Family app."
   ]
  },
  {
   "cell_type": "markdown",
   "id": "1f2d67aa-87b8-4d88-8aeb-5dfec384eb62",
   "metadata": {},
   "source": [
    "#### but there are many \"in-app purchase\". And We do not know that the Price column includes the amount of \"in-app purchase\" as well"
   ]
  },
  {
   "cell_type": "code",
   "execution_count": 213,
   "id": "98b88650-cbff-4f96-a1f0-35563425878d",
   "metadata": {},
   "outputs": [],
   "source": [
    "import matplotlib.pyplot as plt"
   ]
  },
  {
   "cell_type": "code",
   "execution_count": 216,
   "id": "b5e71445-1e28-4da3-9461-255750eb0160",
   "metadata": {},
   "outputs": [],
   "source": [
    "categories = apps.Category.unique()"
   ]
  },
  {
   "cell_type": "code",
   "execution_count": 227,
   "id": "3781ddc3-64fc-4534-8e56-679979f6dd4f",
   "metadata": {},
   "outputs": [],
   "source": [
    "avg_price_per_cat = {}\n",
    "for i in categories:\n",
    "    avg = apps[(apps['Category'] == i)&(apps['Type'] == 'Paid')].Price.mean()\n",
    "    avg_price_per_cat[i] = avg"
   ]
  },
  {
   "cell_type": "code",
   "execution_count": 228,
   "id": "3f8d4e08-e02a-47f6-bb87-cbeac598da53",
   "metadata": {},
   "outputs": [
    {
     "data": {
      "text/plain": [
       "{'ART_AND_DESIGN': 1.99,\n",
       " 'AUTO_AND_VEHICLES': 4.49,\n",
       " 'BEAUTY': nan,\n",
       " 'BOOKS_AND_REFERENCE': 4.277499999999999,\n",
       " 'BUSINESS': 14.6075,\n",
       " 'COMICS': nan,\n",
       " 'COMMUNICATION': 3.079259259259259,\n",
       " 'DATING': 4.573333333333334,\n",
       " 'EDUCATION': 4.49,\n",
       " 'ENTERTAINMENT': 3.99,\n",
       " 'EVENTS': 109.99,\n",
       " 'FINANCE': 170.6370588235293,\n",
       " 'FOOD_AND_DRINK': 4.24,\n",
       " 'HEALTH_AND_FITNESS': 4.290000000000001,\n",
       " 'HOUSE_AND_HOME': nan,\n",
       " 'LIBRARIES_AND_DEMO': 0.99,\n",
       " 'LIFESTYLE': 124.25631578947367,\n",
       " 'GAME': 3.467195121951223,\n",
       " 'FAMILY': 13.113989071038167,\n",
       " 'MEDICAL': 11.996385542168682,\n",
       " 'SOCIAL': 5.323333333333333,\n",
       " 'SHOPPING': 2.74,\n",
       " 'PHOTOGRAPHY': 6.2252631578947355,\n",
       " 'SPORTS': 4.166666666666665,\n",
       " 'TRAVEL_AND_LOCAL': 4.162500000000001,\n",
       " 'TOOLS': 3.426282051282054,\n",
       " 'PERSONALIZATION': 1.8577777777777773,\n",
       " 'PRODUCTIVITY': 8.96178571428572,\n",
       " 'PARENTING': 4.79,\n",
       " 'WEATHER': 4.052500000000001,\n",
       " 'VIDEO_PLAYERS': 2.615,\n",
       " 'NEWS_AND_MAGAZINES': 1.9900000000000002,\n",
       " 'MAPS_AND_NAVIGATION': 5.390000000000001}"
      ]
     },
     "execution_count": 228,
     "metadata": {},
     "output_type": "execute_result"
    }
   ],
   "source": [
    "avg_price_per_cat"
   ]
  },
  {
   "cell_type": "code",
   "execution_count": 231,
   "id": "f8887703-6b1f-4bae-9229-e8968f251a7a",
   "metadata": {},
   "outputs": [],
   "source": [
    "df_cat_price = pd.DataFrame(avg_price_per_cat, index = [0])"
   ]
  },
  {
   "cell_type": "code",
   "execution_count": 243,
   "id": "ad8c8d14-cefa-429c-9ca1-39721d626937",
   "metadata": {},
   "outputs": [],
   "source": [
    "df_cat_price = df_cat_price.T"
   ]
  },
  {
   "cell_type": "code",
   "execution_count": 245,
   "id": "a3e57884-6f3b-45f2-a550-7d9ca4b49418",
   "metadata": {},
   "outputs": [],
   "source": [
    "df_cat_price.rename(columns={0:'average_of_price'}, inplace=True)"
   ]
  },
  {
   "cell_type": "code",
   "execution_count": 264,
   "id": "250e8367-6ca7-447c-8623-845de5095f9c",
   "metadata": {},
   "outputs": [],
   "source": [
    "top_10 = df_cat_price.sort_values('average_of_price', ascending = False).head(10)"
   ]
  },
  {
   "cell_type": "code",
   "execution_count": 266,
   "id": "6374c76a-95c5-4346-b5f0-a788a598b9d0",
   "metadata": {},
   "outputs": [],
   "source": [
    "top_10 = top_10.reset_index().rename(columns={'index':'category'})"
   ]
  },
  {
   "cell_type": "code",
   "execution_count": 300,
   "id": "08fc26f1-3391-4c7e-bbfc-b0914d69c342",
   "metadata": {},
   "outputs": [
    {
     "data": {
      "image/png": "[encoded data removed]",
      "text/plain": [
       "<Figure size 720x360 with 1 Axes>"
      ]
     },
     "metadata": {
      "needs_background": "light"
     },
     "output_type": "display_data"
    }
   ],
   "source": [
    "ax = top_10.plot(x= 'category', y = 'average_of_price', kind = 'bar', figsize = (10,5))\n",
    "ax.set_xlabel('Category')\n",
    "ax.set_ylabel('Average of Paid App Price')\n",
    "ax.set_title('The Average Price of Paid App')\n",
    "plt.xticks(rotation = 45)\n",
    "plt.show()"
   ]
  },
  {
   "cell_type": "markdown",
   "id": "9b15bd1b-9d0a-4848-a584-6ac051e95d69",
   "metadata": {
    "tags": []
   },
   "source": [
    "### "
   ]
  },
  {
   "cell_type": "code",
   "execution_count": 323,
   "id": "051dcde3-dc2f-42aa-82c2-50a86d43e8eb",
   "metadata": {},
   "outputs": [],
   "source": [
    "paid_desc = apps[apps.Type == 'Paid'].groupby('Category').Price.describe()"
   ]
  },
  {
   "cell_type": "code",
   "execution_count": 332,
   "id": "0bc0cf66-cb6e-4aad-8a25-517d3752c28f",
   "metadata": {},
   "outputs": [
    {
     "data": {
      "text/html": [
       "<div>\n",
       "<style scoped>\n",
       "    .dataframe tbody tr th:only-of-type {\n",
       "        vertical-align: middle;\n",
       "    }\n",
       "\n",
       "    .dataframe tbody tr th {\n",
       "        vertical-align: top;\n",
       "    }\n",
       "\n",
       "    .dataframe thead th {\n",
       "        text-align: right;\n",
       "    }\n",
       "</style>\n",
       "<table border=\"1\" class=\"dataframe\">\n",
       "  <thead>\n",
       "    <tr style=\"text-align: right;\">\n",
       "      <th></th>\n",
       "      <th>count</th>\n",
       "      <th>mean</th>\n",
       "      <th>std</th>\n",
       "      <th>min</th>\n",
       "      <th>25%</th>\n",
       "      <th>50%</th>\n",
       "      <th>75%</th>\n",
       "      <th>max</th>\n",
       "    </tr>\n",
       "    <tr>\n",
       "      <th>Category</th>\n",
       "      <th></th>\n",
       "      <th></th>\n",
       "      <th></th>\n",
       "      <th></th>\n",
       "      <th></th>\n",
       "      <th></th>\n",
       "      <th></th>\n",
       "      <th></th>\n",
       "    </tr>\n",
       "  </thead>\n",
       "  <tbody>\n",
       "    <tr>\n",
       "      <th>ART_AND_DESIGN</th>\n",
       "      <td>3.0</td>\n",
       "      <td>1.990000</td>\n",
       "      <td>0.000000</td>\n",
       "      <td>1.99</td>\n",
       "      <td>1.990</td>\n",
       "      <td>1.990</td>\n",
       "      <td>1.990</td>\n",
       "      <td>1.99</td>\n",
       "    </tr>\n",
       "    <tr>\n",
       "      <th>AUTO_AND_VEHICLES</th>\n",
       "      <td>3.0</td>\n",
       "      <td>4.490000</td>\n",
       "      <td>4.769696</td>\n",
       "      <td>1.49</td>\n",
       "      <td>1.740</td>\n",
       "      <td>1.990</td>\n",
       "      <td>5.990</td>\n",
       "      <td>9.99</td>\n",
       "    </tr>\n",
       "    <tr>\n",
       "      <th>BOOKS_AND_REFERENCE</th>\n",
       "      <td>28.0</td>\n",
       "      <td>4.277500</td>\n",
       "      <td>2.019981</td>\n",
       "      <td>0.99</td>\n",
       "      <td>2.740</td>\n",
       "      <td>5.045</td>\n",
       "      <td>5.990</td>\n",
       "      <td>6.49</td>\n",
       "    </tr>\n",
       "    <tr>\n",
       "      <th>BUSINESS</th>\n",
       "      <td>12.0</td>\n",
       "      <td>14.607500</td>\n",
       "      <td>24.520126</td>\n",
       "      <td>0.99</td>\n",
       "      <td>3.740</td>\n",
       "      <td>4.990</td>\n",
       "      <td>14.240</td>\n",
       "      <td>89.99</td>\n",
       "    </tr>\n",
       "    <tr>\n",
       "      <th>COMMUNICATION</th>\n",
       "      <td>27.0</td>\n",
       "      <td>3.079259</td>\n",
       "      <td>3.640282</td>\n",
       "      <td>0.99</td>\n",
       "      <td>1.240</td>\n",
       "      <td>2.490</td>\n",
       "      <td>3.490</td>\n",
       "      <td>19.99</td>\n",
       "    </tr>\n",
       "    <tr>\n",
       "      <th>DATING</th>\n",
       "      <td>6.0</td>\n",
       "      <td>4.573333</td>\n",
       "      <td>2.457980</td>\n",
       "      <td>1.49</td>\n",
       "      <td>3.240</td>\n",
       "      <td>3.990</td>\n",
       "      <td>6.240</td>\n",
       "      <td>7.99</td>\n",
       "    </tr>\n",
       "    <tr>\n",
       "      <th>EDUCATION</th>\n",
       "      <td>4.0</td>\n",
       "      <td>4.490000</td>\n",
       "      <td>1.000000</td>\n",
       "      <td>3.99</td>\n",
       "      <td>3.990</td>\n",
       "      <td>3.990</td>\n",
       "      <td>4.490</td>\n",
       "      <td>5.99</td>\n",
       "    </tr>\n",
       "    <tr>\n",
       "      <th>ENTERTAINMENT</th>\n",
       "      <td>2.0</td>\n",
       "      <td>3.990000</td>\n",
       "      <td>1.414214</td>\n",
       "      <td>2.99</td>\n",
       "      <td>3.490</td>\n",
       "      <td>3.990</td>\n",
       "      <td>4.490</td>\n",
       "      <td>4.99</td>\n",
       "    </tr>\n",
       "    <tr>\n",
       "      <th>EVENTS</th>\n",
       "      <td>1.0</td>\n",
       "      <td>109.990000</td>\n",
       "      <td>NaN</td>\n",
       "      <td>109.99</td>\n",
       "      <td>109.990</td>\n",
       "      <td>109.990</td>\n",
       "      <td>109.990</td>\n",
       "      <td>109.99</td>\n",
       "    </tr>\n",
       "    <tr>\n",
       "      <th>FAMILY</th>\n",
       "      <td>183.0</td>\n",
       "      <td>13.113989</td>\n",
       "      <td>57.910697</td>\n",
       "      <td>0.99</td>\n",
       "      <td>1.990</td>\n",
       "      <td>2.990</td>\n",
       "      <td>4.990</td>\n",
       "      <td>399.99</td>\n",
       "    </tr>\n",
       "    <tr>\n",
       "      <th>FINANCE</th>\n",
       "      <td>17.0</td>\n",
       "      <td>170.637059</td>\n",
       "      <td>197.366392</td>\n",
       "      <td>1.99</td>\n",
       "      <td>3.990</td>\n",
       "      <td>28.990</td>\n",
       "      <td>399.990</td>\n",
       "      <td>399.99</td>\n",
       "    </tr>\n",
       "    <tr>\n",
       "      <th>FOOD_AND_DRINK</th>\n",
       "      <td>2.0</td>\n",
       "      <td>4.240000</td>\n",
       "      <td>1.060660</td>\n",
       "      <td>3.49</td>\n",
       "      <td>3.865</td>\n",
       "      <td>4.240</td>\n",
       "      <td>4.615</td>\n",
       "      <td>4.99</td>\n",
       "    </tr>\n",
       "    <tr>\n",
       "      <th>GAME</th>\n",
       "      <td>82.0</td>\n",
       "      <td>3.467195</td>\n",
       "      <td>3.242659</td>\n",
       "      <td>0.99</td>\n",
       "      <td>0.990</td>\n",
       "      <td>2.740</td>\n",
       "      <td>4.990</td>\n",
       "      <td>17.99</td>\n",
       "    </tr>\n",
       "    <tr>\n",
       "      <th>HEALTH_AND_FITNESS</th>\n",
       "      <td>15.0</td>\n",
       "      <td>4.290000</td>\n",
       "      <td>2.534054</td>\n",
       "      <td>0.99</td>\n",
       "      <td>2.490</td>\n",
       "      <td>3.490</td>\n",
       "      <td>5.490</td>\n",
       "      <td>9.99</td>\n",
       "    </tr>\n",
       "    <tr>\n",
       "      <th>LIBRARIES_AND_DEMO</th>\n",
       "      <td>1.0</td>\n",
       "      <td>0.990000</td>\n",
       "      <td>NaN</td>\n",
       "      <td>0.99</td>\n",
       "      <td>0.990</td>\n",
       "      <td>0.990</td>\n",
       "      <td>0.990</td>\n",
       "      <td>0.99</td>\n",
       "    </tr>\n",
       "    <tr>\n",
       "      <th>LIFESTYLE</th>\n",
       "      <td>19.0</td>\n",
       "      <td>124.256316</td>\n",
       "      <td>179.915810</td>\n",
       "      <td>0.99</td>\n",
       "      <td>2.740</td>\n",
       "      <td>4.990</td>\n",
       "      <td>339.990</td>\n",
       "      <td>400.00</td>\n",
       "    </tr>\n",
       "    <tr>\n",
       "      <th>MAPS_AND_NAVIGATION</th>\n",
       "      <td>5.0</td>\n",
       "      <td>5.390000</td>\n",
       "      <td>5.224940</td>\n",
       "      <td>0.99</td>\n",
       "      <td>0.990</td>\n",
       "      <td>2.990</td>\n",
       "      <td>9.990</td>\n",
       "      <td>11.99</td>\n",
       "    </tr>\n",
       "    <tr>\n",
       "      <th>MEDICAL</th>\n",
       "      <td>83.0</td>\n",
       "      <td>11.996386</td>\n",
       "      <td>24.837920</td>\n",
       "      <td>0.99</td>\n",
       "      <td>2.990</td>\n",
       "      <td>4.990</td>\n",
       "      <td>10.495</td>\n",
       "      <td>200.00</td>\n",
       "    </tr>\n",
       "    <tr>\n",
       "      <th>NEWS_AND_MAGAZINES</th>\n",
       "      <td>2.0</td>\n",
       "      <td>1.990000</td>\n",
       "      <td>1.414214</td>\n",
       "      <td>0.99</td>\n",
       "      <td>1.490</td>\n",
       "      <td>1.990</td>\n",
       "      <td>2.490</td>\n",
       "      <td>2.99</td>\n",
       "    </tr>\n",
       "    <tr>\n",
       "      <th>PARENTING</th>\n",
       "      <td>2.0</td>\n",
       "      <td>4.790000</td>\n",
       "      <td>0.282843</td>\n",
       "      <td>4.59</td>\n",
       "      <td>4.690</td>\n",
       "      <td>4.790</td>\n",
       "      <td>4.890</td>\n",
       "      <td>4.99</td>\n",
       "    </tr>\n",
       "    <tr>\n",
       "      <th>PERSONALIZATION</th>\n",
       "      <td>81.0</td>\n",
       "      <td>1.857778</td>\n",
       "      <td>1.495543</td>\n",
       "      <td>0.99</td>\n",
       "      <td>0.990</td>\n",
       "      <td>1.490</td>\n",
       "      <td>1.990</td>\n",
       "      <td>9.99</td>\n",
       "    </tr>\n",
       "    <tr>\n",
       "      <th>PHOTOGRAPHY</th>\n",
       "      <td>19.0</td>\n",
       "      <td>6.225263</td>\n",
       "      <td>7.241010</td>\n",
       "      <td>1.49</td>\n",
       "      <td>2.495</td>\n",
       "      <td>3.490</td>\n",
       "      <td>5.490</td>\n",
       "      <td>29.99</td>\n",
       "    </tr>\n",
       "    <tr>\n",
       "      <th>PRODUCTIVITY</th>\n",
       "      <td>28.0</td>\n",
       "      <td>8.961786</td>\n",
       "      <td>28.711973</td>\n",
       "      <td>0.99</td>\n",
       "      <td>1.865</td>\n",
       "      <td>2.990</td>\n",
       "      <td>4.990</td>\n",
       "      <td>154.99</td>\n",
       "    </tr>\n",
       "    <tr>\n",
       "      <th>SHOPPING</th>\n",
       "      <td>2.0</td>\n",
       "      <td>2.740000</td>\n",
       "      <td>0.353553</td>\n",
       "      <td>2.49</td>\n",
       "      <td>2.615</td>\n",
       "      <td>2.740</td>\n",
       "      <td>2.865</td>\n",
       "      <td>2.99</td>\n",
       "    </tr>\n",
       "    <tr>\n",
       "      <th>SOCIAL</th>\n",
       "      <td>3.0</td>\n",
       "      <td>5.323333</td>\n",
       "      <td>7.505553</td>\n",
       "      <td>0.99</td>\n",
       "      <td>0.990</td>\n",
       "      <td>0.990</td>\n",
       "      <td>7.490</td>\n",
       "      <td>13.99</td>\n",
       "    </tr>\n",
       "    <tr>\n",
       "      <th>SPORTS</th>\n",
       "      <td>24.0</td>\n",
       "      <td>4.166667</td>\n",
       "      <td>5.769297</td>\n",
       "      <td>0.99</td>\n",
       "      <td>1.990</td>\n",
       "      <td>2.990</td>\n",
       "      <td>3.990</td>\n",
       "      <td>29.99</td>\n",
       "    </tr>\n",
       "    <tr>\n",
       "      <th>TOOLS</th>\n",
       "      <td>78.0</td>\n",
       "      <td>3.426282</td>\n",
       "      <td>3.620792</td>\n",
       "      <td>0.99</td>\n",
       "      <td>1.490</td>\n",
       "      <td>2.770</td>\n",
       "      <td>3.990</td>\n",
       "      <td>25.99</td>\n",
       "    </tr>\n",
       "    <tr>\n",
       "      <th>TRAVEL_AND_LOCAL</th>\n",
       "      <td>12.0</td>\n",
       "      <td>4.162500</td>\n",
       "      <td>2.512475</td>\n",
       "      <td>1.49</td>\n",
       "      <td>2.365</td>\n",
       "      <td>3.490</td>\n",
       "      <td>5.240</td>\n",
       "      <td>8.99</td>\n",
       "    </tr>\n",
       "    <tr>\n",
       "      <th>VIDEO_PLAYERS</th>\n",
       "      <td>4.0</td>\n",
       "      <td>2.615000</td>\n",
       "      <td>2.286737</td>\n",
       "      <td>0.99</td>\n",
       "      <td>1.365</td>\n",
       "      <td>1.740</td>\n",
       "      <td>2.990</td>\n",
       "      <td>5.99</td>\n",
       "    </tr>\n",
       "    <tr>\n",
       "      <th>WEATHER</th>\n",
       "      <td>8.0</td>\n",
       "      <td>4.052500</td>\n",
       "      <td>1.699527</td>\n",
       "      <td>1.99</td>\n",
       "      <td>2.990</td>\n",
       "      <td>3.490</td>\n",
       "      <td>4.865</td>\n",
       "      <td>6.99</td>\n",
       "    </tr>\n",
       "  </tbody>\n",
       "</table>\n",
       "</div>"
      ],
      "text/plain": [
       "                     count        mean         std     min      25%      50%  \\\n",
       "Category                                                                       \n",
       "ART_AND_DESIGN         3.0    1.990000    0.000000    1.99    1.990    1.990   \n",
       "AUTO_AND_VEHICLES      3.0    4.490000    4.769696    1.49    1.740    1.990   \n",
       "BOOKS_AND_REFERENCE   28.0    4.277500    2.019981    0.99    2.740    5.045   \n",
       "BUSINESS              12.0   14.607500   24.520126    0.99    3.740    4.990   \n",
       "COMMUNICATION         27.0    3.079259    3.640282    0.99    1.240    2.490   \n",
       "DATING                 6.0    4.573333    2.457980    1.49    3.240    3.990   \n",
       "EDUCATION              4.0    4.490000    1.000000    3.99    3.990    3.990   \n",
       "ENTERTAINMENT          2.0    3.990000    1.414214    2.99    3.490    3.990   \n",
       "EVENTS                 1.0  109.990000         NaN  109.99  109.990  109.990   \n",
       "FAMILY               183.0   13.113989   57.910697    0.99    1.990    2.990   \n",
       "FINANCE               17.0  170.637059  197.366392    1.99    3.990   28.990   \n",
       "FOOD_AND_DRINK         2.0    4.240000    1.060660    3.49    3.865    4.240   \n",
       "GAME                  82.0    3.467195    3.242659    0.99    0.990    2.740   \n",
       "HEALTH_AND_FITNESS    15.0    4.290000    2.534054    0.99    2.490    3.490   \n",
       "LIBRARIES_AND_DEMO     1.0    0.990000         NaN    0.99    0.990    0.990   \n",
       "LIFESTYLE             19.0  124.256316  179.915810    0.99    2.740    4.990   \n",
       "MAPS_AND_NAVIGATION    5.0    5.390000    5.224940    0.99    0.990    2.990   \n",
       "MEDICAL               83.0   11.996386   24.837920    0.99    2.990    4.990   \n",
       "NEWS_AND_MAGAZINES     2.0    1.990000    1.414214    0.99    1.490    1.990   \n",
       "PARENTING              2.0    4.790000    0.282843    4.59    4.690    4.790   \n",
       "PERSONALIZATION       81.0    1.857778    1.495543    0.99    0.990    1.490   \n",
       "PHOTOGRAPHY           19.0    6.225263    7.241010    1.49    2.495    3.490   \n",
       "PRODUCTIVITY          28.0    8.961786   28.711973    0.99    1.865    2.990   \n",
       "SHOPPING               2.0    2.740000    0.353553    2.49    2.615    2.740   \n",
       "SOCIAL                 3.0    5.323333    7.505553    0.99    0.990    0.990   \n",
       "SPORTS                24.0    4.166667    5.769297    0.99    1.990    2.990   \n",
       "TOOLS                 78.0    3.426282    3.620792    0.99    1.490    2.770   \n",
       "TRAVEL_AND_LOCAL      12.0    4.162500    2.512475    1.49    2.365    3.490   \n",
       "VIDEO_PLAYERS          4.0    2.615000    2.286737    0.99    1.365    1.740   \n",
       "WEATHER                8.0    4.052500    1.699527    1.99    2.990    3.490   \n",
       "\n",
       "                         75%     max  \n",
       "Category                              \n",
       "ART_AND_DESIGN         1.990    1.99  \n",
       "AUTO_AND_VEHICLES      5.990    9.99  \n",
       "BOOKS_AND_REFERENCE    5.990    6.49  \n",
       "BUSINESS              14.240   89.99  \n",
       "COMMUNICATION          3.490   19.99  \n",
       "DATING                 6.240    7.99  \n",
       "EDUCATION              4.490    5.99  \n",
       "ENTERTAINMENT          4.490    4.99  \n",
       "EVENTS               109.990  109.99  \n",
       "FAMILY                 4.990  399.99  \n",
       "FINANCE              399.990  399.99  \n",
       "FOOD_AND_DRINK         4.615    4.99  \n",
       "GAME                   4.990   17.99  \n",
       "HEALTH_AND_FITNESS     5.490    9.99  \n",
       "LIBRARIES_AND_DEMO     0.990    0.99  \n",
       "LIFESTYLE            339.990  400.00  \n",
       "MAPS_AND_NAVIGATION    9.990   11.99  \n",
       "MEDICAL               10.495  200.00  \n",
       "NEWS_AND_MAGAZINES     2.490    2.99  \n",
       "PARENTING              4.890    4.99  \n",
       "PERSONALIZATION        1.990    9.99  \n",
       "PHOTOGRAPHY            5.490   29.99  \n",
       "PRODUCTIVITY           4.990  154.99  \n",
       "SHOPPING               2.865    2.99  \n",
       "SOCIAL                 7.490   13.99  \n",
       "SPORTS                 3.990   29.99  \n",
       "TOOLS                  3.990   25.99  \n",
       "TRAVEL_AND_LOCAL       5.240    8.99  \n",
       "VIDEO_PLAYERS          2.990    5.99  \n",
       "WEATHER                4.865    6.99  "
      ]
     },
     "execution_count": 332,
     "metadata": {},
     "output_type": "execute_result"
    }
   ],
   "source": [
    "paid_desc"
   ]
  },
  {
   "cell_type": "markdown",
   "id": "5abfc39a-552e-419d-a1f1-2d4bd5516c8d",
   "metadata": {},
   "source": [
    "#### To compare each category is not so much meaningful, because the amount of paid app is not enough for.\n",
    "#### Most of Categories are sold less than 30"
   ]
  },
  {
   "cell_type": "code",
   "execution_count": 330,
   "id": "2bff4f26-77fa-4b4d-8408-e510fcd83c4e",
   "metadata": {},
   "outputs": [],
   "source": [
    "paid_desc_10 = paid_desc[paid_desc['count'] > 30].sort_values('mean', ascending= False).head(10)"
   ]
  },
  {
   "cell_type": "code",
   "execution_count": 331,
   "id": "8373d9b5-2bbd-4fb6-84c1-17623b91cae7",
   "metadata": {},
   "outputs": [
    {
     "data": {
      "text/html": [
       "<div>\n",
       "<style scoped>\n",
       "    .dataframe tbody tr th:only-of-type {\n",
       "        vertical-align: middle;\n",
       "    }\n",
       "\n",
       "    .dataframe tbody tr th {\n",
       "        vertical-align: top;\n",
       "    }\n",
       "\n",
       "    .dataframe thead th {\n",
       "        text-align: right;\n",
       "    }\n",
       "</style>\n",
       "<table border=\"1\" class=\"dataframe\">\n",
       "  <thead>\n",
       "    <tr style=\"text-align: right;\">\n",
       "      <th></th>\n",
       "      <th>count</th>\n",
       "      <th>mean</th>\n",
       "      <th>std</th>\n",
       "      <th>min</th>\n",
       "      <th>25%</th>\n",
       "      <th>50%</th>\n",
       "      <th>75%</th>\n",
       "      <th>max</th>\n",
       "    </tr>\n",
       "    <tr>\n",
       "      <th>Category</th>\n",
       "      <th></th>\n",
       "      <th></th>\n",
       "      <th></th>\n",
       "      <th></th>\n",
       "      <th></th>\n",
       "      <th></th>\n",
       "      <th></th>\n",
       "      <th></th>\n",
       "    </tr>\n",
       "  </thead>\n",
       "  <tbody>\n",
       "    <tr>\n",
       "      <th>FAMILY</th>\n",
       "      <td>183.0</td>\n",
       "      <td>13.113989</td>\n",
       "      <td>57.910697</td>\n",
       "      <td>0.99</td>\n",
       "      <td>1.99</td>\n",
       "      <td>2.99</td>\n",
       "      <td>4.990</td>\n",
       "      <td>399.99</td>\n",
       "    </tr>\n",
       "    <tr>\n",
       "      <th>MEDICAL</th>\n",
       "      <td>83.0</td>\n",
       "      <td>11.996386</td>\n",
       "      <td>24.837920</td>\n",
       "      <td>0.99</td>\n",
       "      <td>2.99</td>\n",
       "      <td>4.99</td>\n",
       "      <td>10.495</td>\n",
       "      <td>200.00</td>\n",
       "    </tr>\n",
       "    <tr>\n",
       "      <th>GAME</th>\n",
       "      <td>82.0</td>\n",
       "      <td>3.467195</td>\n",
       "      <td>3.242659</td>\n",
       "      <td>0.99</td>\n",
       "      <td>0.99</td>\n",
       "      <td>2.74</td>\n",
       "      <td>4.990</td>\n",
       "      <td>17.99</td>\n",
       "    </tr>\n",
       "    <tr>\n",
       "      <th>TOOLS</th>\n",
       "      <td>78.0</td>\n",
       "      <td>3.426282</td>\n",
       "      <td>3.620792</td>\n",
       "      <td>0.99</td>\n",
       "      <td>1.49</td>\n",
       "      <td>2.77</td>\n",
       "      <td>3.990</td>\n",
       "      <td>25.99</td>\n",
       "    </tr>\n",
       "    <tr>\n",
       "      <th>PERSONALIZATION</th>\n",
       "      <td>81.0</td>\n",
       "      <td>1.857778</td>\n",
       "      <td>1.495543</td>\n",
       "      <td>0.99</td>\n",
       "      <td>0.99</td>\n",
       "      <td>1.49</td>\n",
       "      <td>1.990</td>\n",
       "      <td>9.99</td>\n",
       "    </tr>\n",
       "  </tbody>\n",
       "</table>\n",
       "</div>"
      ],
      "text/plain": [
       "                 count       mean        std   min   25%   50%     75%     max\n",
       "Category                                                                      \n",
       "FAMILY           183.0  13.113989  57.910697  0.99  1.99  2.99   4.990  399.99\n",
       "MEDICAL           83.0  11.996386  24.837920  0.99  2.99  4.99  10.495  200.00\n",
       "GAME              82.0   3.467195   3.242659  0.99  0.99  2.74   4.990   17.99\n",
       "TOOLS             78.0   3.426282   3.620792  0.99  1.49  2.77   3.990   25.99\n",
       "PERSONALIZATION   81.0   1.857778   1.495543  0.99  0.99  1.49   1.990    9.99"
      ]
     },
     "execution_count": 331,
     "metadata": {},
     "output_type": "execute_result"
    }
   ],
   "source": [
    "paid_desc_10"
   ]
  },
  {
   "cell_type": "markdown",
   "id": "b8260db4-16a2-4c62-a8e8-cf0f8c500a59",
   "metadata": {},
   "source": [
    "#### little bit meaningful to compare categories are paid more than 30.\n",
    "#### Family and Medical categories have high std but anyway this categories are paid with higher price"
   ]
  }
 ],
 "metadata": {
  "kernelspec": {
   "display_name": "Python 3 (ipykernel)",
   "language": "python",
   "name": "python3"
  },
  "language_info": {
   "codemirror_mode": {
    "name": "ipython",
    "version": 3
   },
   "file_extension": ".py",
   "mimetype": "text/x-python",
   "name": "python",
   "nbconvert_exporter": "python",
   "pygments_lexer": "ipython3",
   "version": "3.9.7"
  }
 },
 "nbformat": 4,
 "nbformat_minor": 5
}
